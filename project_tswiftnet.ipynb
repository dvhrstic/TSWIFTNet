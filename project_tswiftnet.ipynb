{
 "cells": [
  {
   "cell_type": "code",
   "execution_count": 1,
   "metadata": {},
   "outputs": [],
   "source": [
    "from __future__ import division, print_function, unicode_literals\n",
    "import numpy as np\n",
    "import tensorflow as tf\n",
    "from tensorflow.examples.tutorials.mnist import input_data\n",
    "import pandas as pd\n",
    "import re\n",
    "import tensorflow.keras as krs\n",
    "\n",
    "# to make this notebook's output stable across runs\n",
    "def reset_graph(seed=42):\n",
    "    krs.backend.clear_session()\n",
    "    tf.reset_default_graph()\n",
    "    tf.set_random_seed(seed)\n",
    "    np.random.seed(seed)"
   ]
  },
  {
   "cell_type": "markdown",
   "metadata": {},
   "source": [
    "## Preprocess the data"
   ]
  },
  {
   "cell_type": "code",
   "execution_count": 2,
   "metadata": {},
   "outputs": [
    {
     "name": "stdout",
     "output_type": "stream",
     "text": [
      "All chars:  173542\n",
      "Unique chars:  63\n"
     ]
    }
   ],
   "source": [
    "# TODO (maybe) : split on songs\n",
    "\n",
    "file_path = \"data/taylor_swift_lyrics.csv\"\n",
    "\n",
    "# Read the dataset from csv\n",
    "df = pd.read_csv(filepath_or_buffer=file_path,\n",
    "                encoding = \"ISO-8859-1\",\n",
    "                sep=\";\")\n",
    "\n",
    "# Extract the lyrics column\n",
    "lyrics = df['lyric']\n",
    "\n",
    "# Remove all special characters and add the words to a list\n",
    "all_chars = []\n",
    "for line in lyrics:\n",
    "    for char in list(line):\n",
    "        c = re.sub('[^A-Za-z0-9\\s]+', '', char)\n",
    "        all_chars.append(c)\n",
    "    all_chars.append(\"\\n\")\n",
    "\n",
    "# Get all unique characters from the dataset\n",
    "unique_chars = list(set(all_chars))\n",
    "        \n",
    "# Create translation tables from char -> ind and ind -> char for one-hot encoding\n",
    "chars_to_ind = dict((c, i) for i, c in enumerate(unique_chars))\n",
    "ind_to_chars = dict((i, c) for i, c in enumerate(unique_chars))\n",
    "\n",
    "N = len(all_chars)\n",
    "d = len(unique_chars)\n",
    "\n",
    "print(\"All chars: \", N)\n",
    "print(\"Unique chars: \", d)\n"
   ]
  },
  {
   "cell_type": "markdown",
   "metadata": {},
   "source": [
    "## One-Hot encoding of the lyrics data"
   ]
  },
  {
   "cell_type": "code",
   "execution_count": 116,
   "metadata": {},
   "outputs": [],
   "source": [
    "X = np.zeros((N, d))\n",
    "for i,char in enumerate(all_chars):\n",
    "    X[i][chars_to_ind[char]] = 1"
   ]
  },
  {
   "cell_type": "markdown",
   "metadata": {},
   "source": [
    "Let's train an RNN to classify MNIST images. We will treat each image as a sequence of 28 rows of 28 pixels each (since each MNIST image is 28×28 pixels). Assume we will use cells of 100 recurrent neurons, plus a fully connected layer containing 10 neurons connected to the output of the last time step, followed by a softmax layer."
   ]
  },
  {
   "cell_type": "code",
   "execution_count": null,
   "metadata": {},
   "outputs": [
    {
     "name": "stdout",
     "output_type": "stream",
     "text": [
      "epoch 0\n",
      "1000/1000 [==============================] - 2s 2ms/step\n",
      "accuracy:  3.0202081337\n",
      "epoch 1\n",
      "1000/1000 [==============================] - 2s 2ms/step\n",
      "accuracy:  2.75914653015\n",
      "epoch 2\n"
     ]
    }
   ],
   "source": [
    "# multi-layer RNN network for mnist\n",
    "reset_graph()\n",
    "\n",
    "seq_length = 100\n",
    "\n",
    "model = krs.Sequential()\n",
    "model.add(krs.layers.LSTM(d, input_shape=(seq_length, d)))\n",
    "model.add(krs.layers.Dropout(0.2))\n",
    "model.add(krs.layers.Dense(d, activation='softmax'))\n",
    "model.compile(loss='categorical_crossentropy', optimizer='adam')\n",
    "\n",
    "nb_epoch=10\n",
    "batch_size=1000\n",
    "nr_batches = int(N / batch_size)\n",
    "\n",
    "for e in range(nb_epoch):\n",
    "    print(\"epoch %d\" % e)\n",
    "    for b in range(nr_batches):\n",
    "        # print(\"batch: \", b, \"/\", nr_batches)\n",
    "        X_batch=np.zeros((batch_size, seq_length, d))\n",
    "        Y_batch=np.zeros((batch_size, d))\n",
    "        for i in range(batch_size):\n",
    "            X_batch[i] = X[(b*batch_size) + i:(b*batch_size) + i + seq_length]\n",
    "            Y_batch[i] = X[(b*batch_size) + i + seq_length]\n",
    "        #model.fit(X_batch, Y_batch, batch_size=batch_size, epochs=1, verbose=0)\n",
    "        model.train_on_batch(X_batch, Y_batch)\n",
    "    score = model.evaluate(X_batch, Y_batch)\n",
    "    print(\"loss: \", score)\n",
    "\n",
    "print(\"Done training\")\n",
    "########################################\n",
    "# executing the model\n",
    "########################################\n"
   ]
  },
  {
   "cell_type": "markdown",
   "metadata": {},
   "source": [
    "## Synthesize data from the model"
   ]
  },
  {
   "cell_type": "code",
   "execution_count": 114,
   "metadata": {},
   "outputs": [
    {
     "name": "stdout",
     "output_type": "stream",
     "text": [
      "He said the way my blue eyes shined\n",
      "Put those Georgia stars to shame that night\n",
      "I said Thats a li\n",
      "ma wtordiik tor al tiss me mate yow I tloikir\n",
      "Ous winsss axve go llo ah Wo cand\n",
      "The oe alt bey--------------\n",
      "ma wtordiik tor al tiss me mate yow I tloikir\n",
      "Ous winsss axve go llo ah Wo cand\n",
      "The oe alt bey\n"
     ]
    }
   ],
   "source": [
    "gen_seq_length = 100\n",
    "#generated_sequence = None\n",
    "#n_mod = model\n",
    "X = np.reshape(X, (len(X), 1, d))\n",
    "input_pattern = X[:100]\n",
    "#print(\"input shape\", input_pattern.shape)\n",
    "print(''.join([ind_to_chars[ind[0]] for ind in np.argmax(input_pattern, axis=2)]))\n",
    "\n",
    "for i in range(gen_seq_length):\n",
    "    c = len(input_pattern)\n",
    "    x = np.reshape(input_pattern, (1, c, d))\n",
    "\n",
    "    prediction = model.predict(x, verbose=0)\n",
    "    #new_ind = np.argmax(prediction)\n",
    "    #print(prediction[0].shape)\n",
    "    new_ind = np.random.choice(d, p=prediction[0])\n",
    "    #print(\"new_ind \", new_ind)\n",
    "    #print(new_ind)\n",
    "    print(ind_to_chars[new_ind], end=\"\")\n",
    "    new_pattern = np.zeros((1, 1, d))\n",
    "    new_pattern[0][0][new_ind] = 1\n",
    "    #print(\"new \", new_pattern.shape)\n",
    "    #print(\"in \", input_pattern.shape)\n",
    "    input_pattern = np.concatenate((input_pattern, new_pattern))\n",
    "    #print(\"last elem \", np.argmax(input_pattern[-1]))\n",
    "    #print(\"in after \", input_pattern.shape)\n",
    "    input_pattern = input_pattern[1:len(input_pattern)]\n",
    "    #print(np.argmax(input_pattern, axis=2))\n",
    "    #print(\"last elem after\", np.argmax(input_pattern[-1]))\n",
    "print(\"--------------\")\n",
    "\n",
    "indices = np.argmax(input_pattern, axis=2)\n",
    "sequence = [ind_to_chars[ind[0]] for ind in indices]\n",
    "#gen_sequence = [ind_to_chars[ind] for ind in indices]\n",
    "\n",
    "print(\"\".join(sequence))"
   ]
  },
  {
   "cell_type": "code",
   "execution_count": null,
   "metadata": {},
   "outputs": [],
   "source": []
  }
 ],
 "metadata": {
  "kernelspec": {
   "display_name": "Python 3",
   "language": "python",
   "name": "python3"
  },
  "language_info": {
   "codemirror_mode": {
    "name": "ipython",
    "version": 3
   },
   "file_extension": ".py",
   "mimetype": "text/x-python",
   "name": "python",
   "nbconvert_exporter": "python",
   "pygments_lexer": "ipython3",
   "version": "3.6.6"
  }
 },
 "nbformat": 4,
 "nbformat_minor": 2
}
