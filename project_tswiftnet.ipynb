{
 "cells": [
  {
   "cell_type": "code",
   "execution_count": 18,
   "metadata": {},
   "outputs": [],
   "source": [
    "from __future__ import division, print_function, unicode_literals\n",
    "import numpy as np\n",
    "import tensorflow as tf\n",
    "from tensorflow.examples.tutorials.mnist import input_data\n",
    "import pandas as pd\n",
    "import re\n",
    "import tensorflow.keras as krs\n",
    "\n",
    "# to make this notebook's output stable across runs\n",
    "def reset_graph(seed=42):\n",
    "    krs.backend.clear_session()\n",
    "    tf.reset_default_graph()\n",
    "    tf.set_random_seed(seed)\n",
    "    np.random.seed(seed)"
   ]
  },
  {
   "cell_type": "markdown",
   "metadata": {},
   "source": [
    "## Preprocess the data"
   ]
  },
  {
   "cell_type": "code",
   "execution_count": 19,
   "metadata": {},
   "outputs": [
    {
     "name": "stdout",
     "output_type": "stream",
     "text": [
      "All chars:  173542\n",
      "Unique chars:  63\n"
     ]
    }
   ],
   "source": [
    "# TODO (maybe) : split on songs\n",
    "\n",
    "file_path = \"data/taylor_swift_lyrics.csv\"\n",
    "\n",
    "# Read the dataset from csv\n",
    "df = pd.read_csv(filepath_or_buffer=file_path,\n",
    "                encoding = \"ISO-8859-1\",\n",
    "                sep=\";\")\n",
    "\n",
    "# Extract the lyrics column\n",
    "lyrics = df['lyric']\n",
    "\n",
    "# Remove all special characters and add the words to a list\n",
    "all_chars = []\n",
    "for line in lyrics:\n",
    "    for char in list(line):\n",
    "        c = re.sub('[^A-Za-z0-9\\s]+', '', char)\n",
    "        all_chars.append(c)\n",
    "    all_chars.append(\"\\n\")\n",
    "\n",
    "# Get all unique characters from the dataset\n",
    "unique_chars = list(set(all_chars))\n",
    "        \n",
    "# Create translation tables from char -> ind and ind -> char for one-hot encoding\n",
    "chars_to_ind = dict((c, i) for i, c in enumerate(unique_chars))\n",
    "ind_to_chars = dict((i, c) for i, c in enumerate(unique_chars))\n",
    "\n",
    "N = len(all_chars)\n",
    "d = len(unique_chars)\n",
    "\n",
    "print(\"All chars: \", N)\n",
    "print(\"Unique chars: \", d)\n"
   ]
  },
  {
   "cell_type": "markdown",
   "metadata": {},
   "source": [
    "## One-Hot encoding of the lyrics data"
   ]
  },
  {
   "cell_type": "code",
   "execution_count": null,
   "metadata": {},
   "outputs": [],
   "source": [
    "X = np.zeros((N, d))\n",
    "for i,char in enumerate(all_chars):\n",
    "    X[i][chars_to_ind[char]] = 1"
   ]
  },
  {
   "cell_type": "markdown",
   "metadata": {},
   "source": [
    "Let's train an RNN to classify MNIST images. We will treat each image as a sequence of 28 rows of 28 pixels each (since each MNIST image is 28×28 pixels). Assume we will use cells of 100 recurrent neurons, plus a fully connected layer containing 10 neurons connected to the output of the last time step, followed by a softmax layer."
   ]
  },
  {
   "cell_type": "code",
   "execution_count": null,
   "metadata": {},
   "outputs": [
    {
     "name": "stdout",
     "output_type": "stream",
     "text": [
      "epoch 0\n"
     ]
    }
   ],
   "source": [
    "# multi-layer RNN network for mnist\n",
    "reset_graph()\n",
    "\n",
    "seq_length = 100\n",
    "\n",
    "model = krs.Sequential()\n",
    "model.add(krs.layers.LSTM(d, input_shape=(seq_length, d)))\n",
    "model.add(krs.layers.Dropout(0.2))\n",
    "model.add(krs.layers.Dense(d, activation='softmax'))\n",
    "model.compile(loss='categorical_crossentropy', optimizer='adam')\n",
    "\n",
    "nb_epoch=10\n",
    "batch_size=200\n",
    "nr_batches = int(N / batch_size)\n",
    "\n",
    "for e in range(nb_epoch):\n",
    "    print(\"epoch %d\" % e)\n",
    "    for b in range(nr_batches):\n",
    "        X_batch=np.zeros((batch_size, seq_length, d))\n",
    "        Y_batch=np.zeros((batch_size, d))\n",
    "        for i in range(batch_size):\n",
    "            X_batch[i] = X[(b*batch_size) + i:(b*batch_size) + i + seq_length]\n",
    "            Y_batch[i] = X[(b*batch_size) + i + seq_length]\n",
    "            model.fit(X_batch, Y_batch, batch_size=50, epochs=1, verbose=0)\n",
    "\n",
    "########################################\n",
    "# executing the model\n",
    "########################################\n"
   ]
  },
  {
   "cell_type": "markdown",
   "metadata": {},
   "source": [
    "We build the above network again for the MNIST dataset, but this time we use LTSM instead of regular RNN."
   ]
  },
  {
   "cell_type": "code",
   "execution_count": null,
   "metadata": {},
   "outputs": [],
   "source": [
    "# building an LSTM RNN\n",
    "reset_graph()\n",
    "\n",
    "n_steps = 28\n",
    "n_inputs = 28\n",
    "n_neurons = 150\n",
    "n_outputs = 10\n",
    "n_layers = 3\n",
    "learning_rate = 0.001\n",
    "n_epochs = 10\n",
    "batch_size = 150\n",
    "\n",
    "########################################\n",
    "# loading dataset\n",
    "########################################\n",
    "mnist = input_data.read_data_sets(\"/tmp/data/\")\n",
    "X_test = mnist.test.images.reshape((-1, n_steps, n_inputs))\n",
    "y_test = mnist.test.labels.astype(\"int\")\n",
    "\n",
    "########################################\n",
    "# defining variables and placeholders\n",
    "########################################\n",
    "X = tf.placeholder(tf.float32, [None, n_steps, n_inputs])\n",
    "y = tf.placeholder(tf.int32, [None])\n",
    "\n",
    "########################################\n",
    "# building the model\n",
    "########################################\n",
    "with tf.name_scope(\"rnn\"):\n",
    "    lstm_cells = [tf.contrib.rnn.BasicLSTMCell(num_units=n_neurons) for layer in range(n_layers)]\n",
    "    multi_cell = tf.contrib.rnn.MultiRNNCell(lstm_cells)\n",
    "    outputs, states = tf.nn.dynamic_rnn(multi_cell, X, dtype=tf.float32)\n",
    "    top_layer_h_state = states[-1][1]\n",
    "    logits = tf.layers.dense(top_layer_h_state, n_outputs, name=\"softmax\")\n",
    "\n",
    "########################################\n",
    "# defining the loss function\n",
    "########################################\n",
    "with tf.name_scope(\"loss\"):\n",
    "    xentropy = tf.nn.sparse_softmax_cross_entropy_with_logits(labels=y, logits=logits)\n",
    "    loss = tf.reduce_mean(xentropy, name=\"loss\")\n",
    "    \n",
    "########################################\n",
    "# training the model\n",
    "########################################\n",
    "with tf.name_scope(\"train\"):\n",
    "    optimizer = tf.train.AdamOptimizer(learning_rate=learning_rate)\n",
    "    training_op = optimizer.minimize(loss)\n",
    "    \n",
    "########################################\n",
    "# defining the evaluation metrics\n",
    "########################################\n",
    "with tf.name_scope(\"eval\"):\n",
    "    correct = tf.nn.in_top_k(logits, y, 1)\n",
    "    accuracy = tf.reduce_mean(tf.cast(correct, tf.float32))\n",
    "    \n",
    "########################################\n",
    "# executing the model\n",
    "########################################\n",
    "init = tf.global_variables_initializer()\n",
    "\n",
    "with tf.Session() as sess:\n",
    "    init.run()\n",
    "    for epoch in range(n_epochs):\n",
    "        for iteration in range(mnist.train.num_examples // batch_size):\n",
    "            X_batch, y_batch = mnist.train.next_batch(batch_size)\n",
    "            X_batch = X_batch.reshape((batch_size, n_steps, n_inputs))\n",
    "            sess.run(training_op, feed_dict={X: X_batch, y: y_batch})\n",
    "        acc_train = accuracy.eval(feed_dict={X: X_batch, y: y_batch})\n",
    "        acc_test = accuracy.eval(feed_dict={X: X_test, y: y_test})\n",
    "        print(epoch, \"Train accuracy:\", acc_train, \"Test accuracy:\", acc_test)"
   ]
  }
 ],
 "metadata": {
  "kernelspec": {
   "display_name": "Python 3",
   "language": "python",
   "name": "python3"
  },
  "language_info": {
   "codemirror_mode": {
    "name": "ipython",
    "version": 3
   },
   "file_extension": ".py",
   "mimetype": "text/x-python",
   "name": "python",
   "nbconvert_exporter": "python",
   "pygments_lexer": "ipython3",
   "version": "3.6.6"
  }
 },
 "nbformat": 4,
 "nbformat_minor": 2
}
